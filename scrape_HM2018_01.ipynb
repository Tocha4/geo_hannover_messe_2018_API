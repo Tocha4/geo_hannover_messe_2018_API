{
 "cells": [
  {
   "cell_type": "markdown",
   "metadata": {},
   "source": [
    "## Scraping through the Hannover Messe 2018 web page\n",
    "#### http://www.hannovermesse.de/\n",
    "Befor starting checkout the permission on http://www.hannovermesse.de/robots.txt"
   ]
  },
  {
   "cell_type": "code",
   "execution_count": 131,
   "metadata": {
    "collapsed": true
   },
   "outputs": [],
   "source": [
    "import requests\n",
    "import pandas as pd\n",
    "from bs4 import BeautifulSoup as bs"
   ]
  },
  {
   "cell_type": "code",
   "execution_count": 132,
   "metadata": {
    "collapsed": true
   },
   "outputs": [],
   "source": [
    "url = 'http://www.hannovermesse.de/en/exhibitors/sitemap.xml'\n",
    "res = requests.get(url)"
   ]
  },
  {
   "cell_type": "markdown",
   "metadata": {},
   "source": [
    "##### Some information"
   ]
  },
  {
   "cell_type": "code",
   "execution_count": 133,
   "metadata": {},
   "outputs": [
    {
     "name": "stdout",
     "output_type": "stream",
     "text": [
      "Date: Sun, 07 Jan 2018 14:52:57 GMT\n",
      "Server: Apache\n",
      "Set-Cookie: JSESSIONID=519D821129F3943C07D88D612A35E118; Path=/; HttpOnly, SRV=b07|WlI0U; path=/\n",
      "Transfer-Encoding: chunked\n",
      "Content-Type: text/xml;charset=UTF-8\n",
      "Cache-control: private\n"
     ]
    }
   ],
   "source": [
    "for i in res.headers:\n",
    "    print('{}: {}'.format(i,res.headers[i]))"
   ]
  },
  {
   "cell_type": "markdown",
   "metadata": {},
   "source": [
    "##### Get all exhibitor urls with BeatifulSoup"
   ]
  },
  {
   "cell_type": "code",
   "execution_count": 134,
   "metadata": {},
   "outputs": [
    {
     "name": "stdout",
     "output_type": "stream",
     "text": [
      "http://www.hannovermesse.de/exhibitor/a-zeta-gomma/W673272\n"
     ]
    },
    {
     "data": {
      "text/plain": [
       "7213"
      ]
     },
     "execution_count": 134,
     "metadata": {},
     "output_type": "execute_result"
    }
   ],
   "source": [
    "soup = bs(res.content, 'html.parser')\n",
    "url_list = soup.find_all('loc')\n",
    "df = pd.DataFrame([str(i).strip('loc></loc') for i in url_list])\n",
    "print(df[0][0])\n",
    "len(df)"
   ]
  },
  {
   "cell_type": "markdown",
   "metadata": {},
   "source": [
    "## Get the data of one exhibitor"
   ]
  },
  {
   "cell_type": "code",
   "execution_count": 135,
   "metadata": {},
   "outputs": [],
   "source": [
    "res = requests.get(df[0][0])\n",
    "soup = bs(res.content, 'html.parser')"
   ]
  },
  {
   "cell_type": "code",
   "execution_count": 136,
   "metadata": {},
   "outputs": [
    {
     "data": {
      "text/plain": [
       "'A ZETA GOMMA - FornitureIndustriali s.p.A.'"
      ]
     },
     "execution_count": 136,
     "metadata": {},
     "output_type": "execute_result"
    }
   ],
   "source": [
    "name = soup.find('h3', {'itemprop': 'companyName'})\n",
    "name.text"
   ]
  },
  {
   "cell_type": "code",
   "execution_count": 137,
   "metadata": {},
   "outputs": [
    {
     "data": {
      "text/plain": [
       "'Via Radici in Piano 449/1'"
      ]
     },
     "execution_count": 137,
     "metadata": {},
     "output_type": "execute_result"
    }
   ],
   "source": [
    "street = soup.find('div', {'itemprop':'street'})\n",
    "street.text"
   ]
  },
  {
   "cell_type": "code",
   "execution_count": 138,
   "metadata": {},
   "outputs": [
    {
     "data": {
      "text/plain": [
       "'41049 Sassuolo'"
      ]
     },
     "execution_count": 138,
     "metadata": {},
     "output_type": "execute_result"
    }
   ],
   "source": [
    "city = soup.find('div', {'itemprop':'city'})\n",
    "city.text"
   ]
  },
  {
   "cell_type": "code",
   "execution_count": 139,
   "metadata": {},
   "outputs": [
    {
     "data": {
      "text/plain": [
       "'Italy'"
      ]
     },
     "execution_count": 139,
     "metadata": {},
     "output_type": "execute_result"
    }
   ],
   "source": [
    "country = soup.find('div', {'itemprop':'country'})\n",
    "country.text.split('\\n')[0]"
   ]
  },
  {
   "cell_type": "code",
   "execution_count": 140,
   "metadata": {},
   "outputs": [
    {
     "data": {
      "text/plain": [
       "'+39 0536 867111'"
      ]
     },
     "execution_count": 140,
     "metadata": {},
     "output_type": "execute_result"
    }
   ],
   "source": [
    "tel_number = soup.find('a', {'class':'tel-number'})\n",
    "tel_number.text.strip('\\t\\n')"
   ]
  },
  {
   "cell_type": "code",
   "execution_count": 141,
   "metadata": {},
   "outputs": [
    {
     "data": {
      "text/plain": [
       "'+39 0536 806884'"
      ]
     },
     "execution_count": 141,
     "metadata": {},
     "output_type": "execute_result"
    }
   ],
   "source": [
    "fax = soup.find('div', {'itemprop':'fax'})\n",
    "fax.text.split('Fax: ')[1]"
   ]
  },
  {
   "cell_type": "code",
   "execution_count": 142,
   "metadata": {},
   "outputs": [
    {
     "data": {
      "text/plain": [
       "'http://www.azetagomma.com'"
      ]
     },
     "execution_count": 142,
     "metadata": {},
     "output_type": "execute_result"
    }
   ],
   "source": [
    "website = soup.find('a', {'class': 'textLink icon-external-link'})\n",
    "website['href']"
   ]
  },
  {
   "cell_type": "markdown",
   "metadata": {},
   "source": [
    "## Function to get data of all exhibitors"
   ]
  },
  {
   "cell_type": "code",
   "execution_count": 143,
   "metadata": {
    "collapsed": true
   },
   "outputs": [],
   "source": [
    "def checking(res):\n",
    "    if res == None:\n",
    "        res = 'NaN'\n",
    "    else: pass\n",
    "    return res\n",
    "class TN():\n",
    "    def __init__(self):\n",
    "        self.text = '\\tNo tel_number\\n'"
   ]
  },
  {
   "cell_type": "code",
   "execution_count": 144,
   "metadata": {},
   "outputs": [],
   "source": [
    "def get_data(df):\n",
    "    \n",
    "    data = {'name':[],\n",
    "           'street':[],\n",
    "           'city':[],\n",
    "            'zip_code':[],\n",
    "           'country':[],\n",
    "           'tel_number':[],\n",
    "           'website':[],}\n",
    "    for n,i in enumerate(df[0]):\n",
    "        res = requests.get(i)\n",
    "        soup = bs(res.content, 'html.parser')\n",
    "        \n",
    "        name = soup.find('h3', {'itemprop': 'companyName'}).text\n",
    "        street = soup.find('div', {'itemprop':'street'}).text\n",
    "        city = soup.find('div', {'itemprop':'city'}).text\n",
    "        country = soup.find('div', {'itemprop':'country'}).text.split('\\n')[0]\n",
    "        tel_number = [i.text.strip('\\t\\n') for i in [soup.find('a', {'class':'tel-number'}), TN()] if i != None][0]\n",
    "        website = [i['href'] for i in [soup.find('a', {'class': 'textLink icon-external-link'}), \n",
    "                                       {'href': 'NaN'}] if i != None][0]\n",
    "        data['name'].append(name)\n",
    "        data['street'].append(street)\n",
    "        data['city'].append(city.split(' ')[1])\n",
    "        data['zip_code'].append(city.split(' ')[0])\n",
    "        data['country'].append(country)\n",
    "        data['tel_number'].append(tel_number)\n",
    "        data['website'].append(website)\n",
    "\n",
    "    ddf = pd.DataFrame(data)\n",
    "    return ddf          "
   ]
  },
  {
   "cell_type": "markdown",
   "metadata": {},
   "source": [
    "### Without multicore prossesing it takes more than 2 hours !!!!!"
   ]
  },
  {
   "cell_type": "markdown",
   "metadata": {},
   "source": [
    "ddf = get_data(df)\n",
    "ddf.head()"
   ]
  },
  {
   "cell_type": "code",
   "execution_count": 145,
   "metadata": {},
   "outputs": [
    {
     "data": {
      "text/plain": [
       "118.33333333333333"
      ]
     },
     "execution_count": 145,
     "metadata": {},
     "output_type": "execute_result"
    }
   ],
   "source": [
    "ddf.to_csv('exhibitors.csv')"
   ]
  }
 ],
 "metadata": {
  "kernelspec": {
   "display_name": "Python 3",
   "language": "python",
   "name": "python3"
  },
  "language_info": {
   "codemirror_mode": {
    "name": "ipython",
    "version": 3
   },
   "file_extension": ".py",
   "mimetype": "text/x-python",
   "name": "python",
   "nbconvert_exporter": "python",
   "pygments_lexer": "ipython3",
   "version": "3.6.2"
  }
 },
 "nbformat": 4,
 "nbformat_minor": 2
}
