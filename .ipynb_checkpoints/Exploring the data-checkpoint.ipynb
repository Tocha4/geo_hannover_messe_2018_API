{
 "cells": [
  {
   "cell_type": "code",
   "execution_count": 4,
   "metadata": {
    "collapsed": true
   },
   "outputs": [],
   "source": [
    "import pandas as pd\n",
    "from IPython.core.interactiveshell import InteractiveShell\n",
    "InteractiveShell.ast_node_interactivity='all'"
   ]
  },
  {
   "cell_type": "code",
   "execution_count": 5,
   "metadata": {},
   "outputs": [
    {
     "name": "stdout",
     "output_type": "stream",
     "text": [
      "exhibitors.csv            HM_2018_API.py  README.md   scrape_HM2018_01.ipynb\r\n",
      "Exploring the data.ipynb  HSM_2018.csv    robots.txt\r\n"
     ]
    }
   ],
   "source": [
    "%ls"
   ]
  },
  {
   "cell_type": "code",
   "execution_count": 13,
   "metadata": {},
   "outputs": [
    {
     "data": {
      "text/html": [
       "<div>\n",
       "<style>\n",
       "    .dataframe thead tr:only-child th {\n",
       "        text-align: right;\n",
       "    }\n",
       "\n",
       "    .dataframe thead th {\n",
       "        text-align: left;\n",
       "    }\n",
       "\n",
       "    .dataframe tbody tr th {\n",
       "        vertical-align: top;\n",
       "    }\n",
       "</style>\n",
       "<table border=\"1\" class=\"dataframe\">\n",
       "  <thead>\n",
       "    <tr style=\"text-align: right;\">\n",
       "      <th></th>\n",
       "      <th>Unnamed: 0</th>\n",
       "      <th>city</th>\n",
       "      <th>country</th>\n",
       "      <th>name</th>\n",
       "      <th>street</th>\n",
       "      <th>tel_number</th>\n",
       "      <th>website</th>\n",
       "      <th>zip_code</th>\n",
       "      <th>Unnamed: 8</th>\n",
       "    </tr>\n",
       "  </thead>\n",
       "  <tbody>\n",
       "    <tr>\n",
       "      <th>0</th>\n",
       "      <td>0</td>\n",
       "      <td>Sassuolo</td>\n",
       "      <td>Italy</td>\n",
       "      <td>A ZETA GOMMA - FornitureIndustriali s.p.A.</td>\n",
       "      <td>Via Radici in Piano 449/1</td>\n",
       "      <td>+39 0536 867111</td>\n",
       "      <td>http://www.azetagomma.com</td>\n",
       "      <td>41049</td>\n",
       "      <td>NaN</td>\n",
       "    </tr>\n",
       "    <tr>\n",
       "      <th>1</th>\n",
       "      <td>1</td>\n",
       "      <td>Eyüp</td>\n",
       "      <td>Turkey</td>\n",
       "      <td>AAG Makina Basingli Hava Sist.San Tic. Ltd. Sti.</td>\n",
       "      <td>Merkez Mah., Pierre LotiIdris Köskü Caddesi Ku...</td>\n",
       "      <td>+90 212 5634381</td>\n",
       "      <td>http://www.aagmakina.com</td>\n",
       "      <td>34050</td>\n",
       "      <td>NaN</td>\n",
       "    </tr>\n",
       "    <tr>\n",
       "      <th>2</th>\n",
       "      <td>2</td>\n",
       "      <td>Horsens</td>\n",
       "      <td>Denmark</td>\n",
       "      <td>Aage Östergaard A/S</td>\n",
       "      <td>Islandsvej 25</td>\n",
       "      <td>+45 7562 1144</td>\n",
       "      <td>http://www.aaosteel.dk</td>\n",
       "      <td>8700</td>\n",
       "      <td>NaN</td>\n",
       "    </tr>\n",
       "    <tr>\n",
       "      <th>3</th>\n",
       "      <td>3</td>\n",
       "      <td>Rickenbach</td>\n",
       "      <td>Switzerland</td>\n",
       "      <td>Aareplast AG</td>\n",
       "      <td>Industriestrasse West 19</td>\n",
       "      <td>+41 62 2062100</td>\n",
       "      <td>http://www.aareplast.com</td>\n",
       "      <td>4613</td>\n",
       "      <td>NaN</td>\n",
       "    </tr>\n",
       "    <tr>\n",
       "      <th>4</th>\n",
       "      <td>4</td>\n",
       "      <td>Nürnberg</td>\n",
       "      <td>Germany</td>\n",
       "      <td>AAT Aston GmbHGeräte für Elektronikfertigung u...</td>\n",
       "      <td>Konradstr. 7</td>\n",
       "      <td>+49 911 3266 0</td>\n",
       "      <td>http://www.aston.de</td>\n",
       "      <td>90429</td>\n",
       "      <td>NaN</td>\n",
       "    </tr>\n",
       "  </tbody>\n",
       "</table>\n",
       "</div>"
      ],
      "text/plain": [
       "   Unnamed: 0        city      country  \\\n",
       "0           0    Sassuolo        Italy   \n",
       "1           1        Eyüp       Turkey   \n",
       "2           2     Horsens      Denmark   \n",
       "3           3  Rickenbach  Switzerland   \n",
       "4           4    Nürnberg      Germany   \n",
       "\n",
       "                                                name  \\\n",
       "0         A ZETA GOMMA - FornitureIndustriali s.p.A.   \n",
       "1   AAG Makina Basingli Hava Sist.San Tic. Ltd. Sti.   \n",
       "2                                Aage Östergaard A/S   \n",
       "3                                       Aareplast AG   \n",
       "4  AAT Aston GmbHGeräte für Elektronikfertigung u...   \n",
       "\n",
       "                                              street       tel_number  \\\n",
       "0                          Via Radici in Piano 449/1  +39 0536 867111   \n",
       "1  Merkez Mah., Pierre LotiIdris Köskü Caddesi Ku...  +90 212 5634381   \n",
       "2                                      Islandsvej 25    +45 7562 1144   \n",
       "3                           Industriestrasse West 19   +41 62 2062100   \n",
       "4                                       Konradstr. 7   +49 911 3266 0   \n",
       "\n",
       "                     website zip_code Unnamed: 8  \n",
       "0  http://www.azetagomma.com    41049        NaN  \n",
       "1   http://www.aagmakina.com    34050        NaN  \n",
       "2     http://www.aaosteel.dk     8700        NaN  \n",
       "3   http://www.aareplast.com     4613        NaN  \n",
       "4        http://www.aston.de    90429        NaN  "
      ]
     },
     "execution_count": 13,
     "metadata": {},
     "output_type": "execute_result"
    },
    {
     "data": {
      "text/html": [
       "<div>\n",
       "<style>\n",
       "    .dataframe thead tr:only-child th {\n",
       "        text-align: right;\n",
       "    }\n",
       "\n",
       "    .dataframe thead th {\n",
       "        text-align: left;\n",
       "    }\n",
       "\n",
       "    .dataframe tbody tr th {\n",
       "        vertical-align: top;\n",
       "    }\n",
       "</style>\n",
       "<table border=\"1\" class=\"dataframe\">\n",
       "  <thead>\n",
       "    <tr style=\"text-align: right;\">\n",
       "      <th></th>\n",
       "      <th>city</th>\n",
       "      <th>zip_code</th>\n",
       "      <th>country</th>\n",
       "    </tr>\n",
       "  </thead>\n",
       "  <tbody>\n",
       "    <tr>\n",
       "      <th>0</th>\n",
       "      <td>Sassuolo</td>\n",
       "      <td>41049</td>\n",
       "      <td>Italy</td>\n",
       "    </tr>\n",
       "    <tr>\n",
       "      <th>1</th>\n",
       "      <td>Eyüp</td>\n",
       "      <td>34050</td>\n",
       "      <td>Turkey</td>\n",
       "    </tr>\n",
       "    <tr>\n",
       "      <th>2</th>\n",
       "      <td>Horsens</td>\n",
       "      <td>8700</td>\n",
       "      <td>Denmark</td>\n",
       "    </tr>\n",
       "    <tr>\n",
       "      <th>3</th>\n",
       "      <td>Rickenbach</td>\n",
       "      <td>4613</td>\n",
       "      <td>Switzerland</td>\n",
       "    </tr>\n",
       "    <tr>\n",
       "      <th>4</th>\n",
       "      <td>Nürnberg</td>\n",
       "      <td>90429</td>\n",
       "      <td>Germany</td>\n",
       "    </tr>\n",
       "  </tbody>\n",
       "</table>\n",
       "</div>"
      ],
      "text/plain": [
       "         city zip_code      country\n",
       "0    Sassuolo    41049        Italy\n",
       "1        Eyüp    34050       Turkey\n",
       "2     Horsens     8700      Denmark\n",
       "3  Rickenbach     4613  Switzerland\n",
       "4    Nürnberg    90429      Germany"
      ]
     },
     "execution_count": 13,
     "metadata": {},
     "output_type": "execute_result"
    }
   ],
   "source": [
    "df = pd.read_csv('exhibitors.csv')\n",
    "df.head()\n",
    "df.loc[:,['city', 'zip_code','country']].head()"
   ]
  },
  {
   "cell_type": "code",
   "execution_count": 14,
   "metadata": {},
   "outputs": [
    {
     "name": "stdout",
     "output_type": "stream",
     "text": [
      "Number of different countrys: 75\n"
     ]
    },
    {
     "data": {
      "text/html": [
       "<div>\n",
       "<style>\n",
       "    .dataframe thead tr:only-child th {\n",
       "        text-align: right;\n",
       "    }\n",
       "\n",
       "    .dataframe thead th {\n",
       "        text-align: left;\n",
       "    }\n",
       "\n",
       "    .dataframe tbody tr th {\n",
       "        vertical-align: top;\n",
       "    }\n",
       "</style>\n",
       "<table border=\"1\" class=\"dataframe\">\n",
       "  <thead>\n",
       "    <tr style=\"text-align: right;\">\n",
       "      <th></th>\n",
       "      <th>0</th>\n",
       "    </tr>\n",
       "  </thead>\n",
       "  <tbody>\n",
       "    <tr>\n",
       "      <th>0</th>\n",
       "      <td>Italy</td>\n",
       "    </tr>\n",
       "    <tr>\n",
       "      <th>1</th>\n",
       "      <td>Turkey</td>\n",
       "    </tr>\n",
       "    <tr>\n",
       "      <th>2</th>\n",
       "      <td>Denmark</td>\n",
       "    </tr>\n",
       "    <tr>\n",
       "      <th>3</th>\n",
       "      <td>Switzerland</td>\n",
       "    </tr>\n",
       "    <tr>\n",
       "      <th>4</th>\n",
       "      <td>Germany</td>\n",
       "    </tr>\n",
       "  </tbody>\n",
       "</table>\n",
       "</div>"
      ],
      "text/plain": [
       "             0\n",
       "0        Italy\n",
       "1       Turkey\n",
       "2      Denmark\n",
       "3  Switzerland\n",
       "4      Germany"
      ]
     },
     "execution_count": 14,
     "metadata": {},
     "output_type": "execute_result"
    }
   ],
   "source": [
    "countrys = df.country.unique()\n",
    "print('Number of different countrys: {}'.format(len(countrys)))\n",
    "pd.DataFrame(countrys).head()"
   ]
  },
  {
   "cell_type": "code",
   "execution_count": 15,
   "metadata": {},
   "outputs": [
    {
     "name": "stdout",
     "output_type": "stream",
     "text": [
      "Number of different cities: 2807\n"
     ]
    },
    {
     "data": {
      "text/html": [
       "<div>\n",
       "<style>\n",
       "    .dataframe thead tr:only-child th {\n",
       "        text-align: right;\n",
       "    }\n",
       "\n",
       "    .dataframe thead th {\n",
       "        text-align: left;\n",
       "    }\n",
       "\n",
       "    .dataframe tbody tr th {\n",
       "        vertical-align: top;\n",
       "    }\n",
       "</style>\n",
       "<table border=\"1\" class=\"dataframe\">\n",
       "  <thead>\n",
       "    <tr style=\"text-align: right;\">\n",
       "      <th></th>\n",
       "      <th>city</th>\n",
       "    </tr>\n",
       "  </thead>\n",
       "  <tbody>\n",
       "    <tr>\n",
       "      <th>0</th>\n",
       "      <td>Sassuolo</td>\n",
       "    </tr>\n",
       "    <tr>\n",
       "      <th>1</th>\n",
       "      <td>Eyüp</td>\n",
       "    </tr>\n",
       "    <tr>\n",
       "      <th>2</th>\n",
       "      <td>Horsens</td>\n",
       "    </tr>\n",
       "    <tr>\n",
       "      <th>3</th>\n",
       "      <td>Rickenbach</td>\n",
       "    </tr>\n",
       "    <tr>\n",
       "      <th>4</th>\n",
       "      <td>Nürnberg</td>\n",
       "    </tr>\n",
       "  </tbody>\n",
       "</table>\n",
       "</div>"
      ],
      "text/plain": [
       "         city\n",
       "0    Sassuolo\n",
       "1        Eyüp\n",
       "2     Horsens\n",
       "3  Rickenbach\n",
       "4    Nürnberg"
      ]
     },
     "execution_count": 15,
     "metadata": {},
     "output_type": "execute_result"
    }
   ],
   "source": [
    "city = df.city.unique()\n",
    "print('Number of different cities: {}'.format(len(city)))\n",
    "city = pd.DataFrame(city, columns=['city'])\n",
    "\n",
    "#city['zip_code'] = [i for i in city[0]]\n",
    "city.head()"
   ]
  }
 ],
 "metadata": {
  "kernelspec": {
   "display_name": "Python 3",
   "language": "python",
   "name": "python3"
  },
  "language_info": {
   "codemirror_mode": {
    "name": "ipython",
    "version": 3
   },
   "file_extension": ".py",
   "mimetype": "text/x-python",
   "name": "python",
   "nbconvert_exporter": "python",
   "pygments_lexer": "ipython3",
   "version": "3.6.2"
  }
 },
 "nbformat": 4,
 "nbformat_minor": 2
}
